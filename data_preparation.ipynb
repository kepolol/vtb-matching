{
 "cells": [
  {
   "cell_type": "code",
   "execution_count": 1,
   "id": "2952cab4",
   "metadata": {
    "ExecuteTime": {
     "end_time": "2022-04-03T06:56:31.857876Z",
     "start_time": "2022-04-03T06:56:31.845352Z"
    }
   },
   "outputs": [],
   "source": [
    "%load_ext autoreload\n",
    "%autoreload 2"
   ]
  },
  {
   "cell_type": "code",
   "execution_count": 2,
   "id": "1e1daebf",
   "metadata": {
    "ExecuteTime": {
     "end_time": "2022-04-02T16:16:05.256063Z",
     "start_time": "2022-04-02T16:16:04.785189Z"
    }
   },
   "outputs": [],
   "source": [
    "import warnings\n",
    "import sys\n",
    "\n",
    "warnings.filterwarnings(\"ignore\", category=FutureWarning)\n",
    "warnings.filterwarnings(\"ignore\", category=DeprecationWarning)\n",
    "\n",
    "import pandas as pd\n",
    "from os import path\n",
    "import tqdm.notebook as tqdm\n",
    "from tqdm._tqdm_notebook import tqdm_notebook\n",
    "import torch\n",
    "import joblib\n",
    "import numpy as np\n",
    "\n",
    "sys.path.append('/home/ivan/Рабочий стол/vtb-matching/')\n",
    "tqdm_notebook.pandas()"
   ]
  },
  {
   "cell_type": "code",
   "execution_count": 3,
   "id": "cab8816f",
   "metadata": {
    "ExecuteTime": {
     "end_time": "2022-04-02T16:16:05.712539Z",
     "start_time": "2022-04-02T16:16:05.690813Z"
    }
   },
   "outputs": [],
   "source": [
    "data_dir = '/home/ivan/Рабочий стол/vtb-matching/data'"
   ]
  },
  {
   "cell_type": "code",
   "execution_count": 4,
   "id": "9e44e06f",
   "metadata": {
    "ExecuteTime": {
     "end_time": "2022-04-02T16:17:22.934186Z",
     "start_time": "2022-04-02T16:16:06.062123Z"
    }
   },
   "outputs": [],
   "source": [
    "# Расшифровка MCC кодов транзакций\n",
    "mcc_codes = pd.read_csv(path.join(data_dir, 'mcc_codes.csv'))\n",
    "# Расшифровка кодов категорий кликстрима\n",
    "click_categories = pd.read_csv(path.join(data_dir, 'click_categories.csv'))\n",
    "# Кликстрим\n",
    "clickstream = pd.read_csv(path.join(data_dir, 'clickstream.csv'))\n",
    "# Расшифровка кодов валют\n",
    "currency_rk = pd.read_csv(path.join(data_dir, 'currency_rk.csv'))\n",
    "# Целевая переменная — табличный файл с точным соответствием между id клиентов \n",
    "# в данных транзакций и кликстримов. Разметка представлена не для всех клиентов, \n",
    "# присутствующих в данных транзакций и кликстрима\n",
    "train_matching = pd.read_csv(path.join(data_dir, 'train_matching.csv'))\n",
    "# Список транзакций\n",
    "transactions = pd.read_csv(path.join(data_dir, 'transactions.csv'))"
   ]
  },
  {
   "cell_type": "code",
   "execution_count": 5,
   "id": "6b5b7923",
   "metadata": {
    "ExecuteTime": {
     "end_time": "2022-04-02T11:37:01.530993Z",
     "start_time": "2022-04-02T11:37:01.511474Z"
    }
   },
   "outputs": [
    {
     "data": {
      "text/html": [
       "<div>\n",
       "<style scoped>\n",
       "    .dataframe tbody tr th:only-of-type {\n",
       "        vertical-align: middle;\n",
       "    }\n",
       "\n",
       "    .dataframe tbody tr th {\n",
       "        vertical-align: top;\n",
       "    }\n",
       "\n",
       "    .dataframe thead th {\n",
       "        text-align: right;\n",
       "    }\n",
       "</style>\n",
       "<table border=\"1\" class=\"dataframe\">\n",
       "  <thead>\n",
       "    <tr style=\"text-align: right;\">\n",
       "      <th></th>\n",
       "      <th>MCC</th>\n",
       "      <th>Название</th>\n",
       "      <th>Описание</th>\n",
       "    </tr>\n",
       "  </thead>\n",
       "  <tbody>\n",
       "    <tr>\n",
       "      <th>0</th>\n",
       "      <td>742</td>\n",
       "      <td>Ветеринарные услуги</td>\n",
       "      <td>Лицензированные специалисты в основном занимаю...</td>\n",
       "    </tr>\n",
       "    <tr>\n",
       "      <th>1</th>\n",
       "      <td>763</td>\n",
       "      <td>Сельскохозяйственные кооперативы</td>\n",
       "      <td>Ассоциации и кооперативы, которые предоставляю...</td>\n",
       "    </tr>\n",
       "    <tr>\n",
       "      <th>2</th>\n",
       "      <td>780</td>\n",
       "      <td>Услуги садоводства и ландшафтного дизайна</td>\n",
       "      <td>Ландшафтные архитекторы и другие поставщики ус...</td>\n",
       "    </tr>\n",
       "    <tr>\n",
       "      <th>3</th>\n",
       "      <td>1520</td>\n",
       "      <td>Генеральные подрядчики – жилое и коммерческое ...</td>\n",
       "      <td>Генеральные подрядчики, в основном занимающиес...</td>\n",
       "    </tr>\n",
       "    <tr>\n",
       "      <th>4</th>\n",
       "      <td>1711</td>\n",
       "      <td>Генеральные подрядчики по вентиляции, теплосна...</td>\n",
       "      <td>Специальные торговые подрядчики, которые работ...</td>\n",
       "    </tr>\n",
       "  </tbody>\n",
       "</table>\n",
       "</div>"
      ],
      "text/plain": [
       "    MCC                                           Название  \\\n",
       "0   742                                Ветеринарные услуги   \n",
       "1   763                   Сельскохозяйственные кооперативы   \n",
       "2   780          Услуги садоводства и ландшафтного дизайна   \n",
       "3  1520  Генеральные подрядчики – жилое и коммерческое ...   \n",
       "4  1711  Генеральные подрядчики по вентиляции, теплосна...   \n",
       "\n",
       "                                            Описание  \n",
       "0  Лицензированные специалисты в основном занимаю...  \n",
       "1  Ассоциации и кооперативы, которые предоставляю...  \n",
       "2  Ландшафтные архитекторы и другие поставщики ус...  \n",
       "3  Генеральные подрядчики, в основном занимающиес...  \n",
       "4  Специальные торговые подрядчики, которые работ...  "
      ]
     },
     "execution_count": 5,
     "metadata": {},
     "output_type": "execute_result"
    }
   ],
   "source": [
    "mcc_codes.head()"
   ]
  },
  {
   "cell_type": "code",
   "execution_count": 6,
   "id": "895fb862",
   "metadata": {
    "ExecuteTime": {
     "end_time": "2022-04-02T11:37:01.543285Z",
     "start_time": "2022-04-02T11:37:01.531798Z"
    }
   },
   "outputs": [
    {
     "data": {
      "text/html": [
       "<div>\n",
       "<style scoped>\n",
       "    .dataframe tbody tr th:only-of-type {\n",
       "        vertical-align: middle;\n",
       "    }\n",
       "\n",
       "    .dataframe tbody tr th {\n",
       "        vertical-align: top;\n",
       "    }\n",
       "\n",
       "    .dataframe thead th {\n",
       "        text-align: right;\n",
       "    }\n",
       "</style>\n",
       "<table border=\"1\" class=\"dataframe\">\n",
       "  <thead>\n",
       "    <tr style=\"text-align: right;\">\n",
       "      <th></th>\n",
       "      <th>cat_id</th>\n",
       "      <th>level_0</th>\n",
       "      <th>level_1</th>\n",
       "      <th>level_2</th>\n",
       "    </tr>\n",
       "  </thead>\n",
       "  <tbody>\n",
       "    <tr>\n",
       "      <th>0</th>\n",
       "      <td>1</td>\n",
       "      <td>accessories</td>\n",
       "      <td>NaN</td>\n",
       "      <td>NaN</td>\n",
       "    </tr>\n",
       "    <tr>\n",
       "      <th>1</th>\n",
       "      <td>2</td>\n",
       "      <td>accessories</td>\n",
       "      <td>handbags</td>\n",
       "      <td>NaN</td>\n",
       "    </tr>\n",
       "    <tr>\n",
       "      <th>2</th>\n",
       "      <td>3</td>\n",
       "      <td>accessories</td>\n",
       "      <td>jewellery</td>\n",
       "      <td>NaN</td>\n",
       "    </tr>\n",
       "    <tr>\n",
       "      <th>3</th>\n",
       "      <td>8</td>\n",
       "      <td>accessories</td>\n",
       "      <td>watches</td>\n",
       "      <td>NaN</td>\n",
       "    </tr>\n",
       "    <tr>\n",
       "      <th>4</th>\n",
       "      <td>11</td>\n",
       "      <td>age</td>\n",
       "      <td>age_0-5_yo</td>\n",
       "      <td>NaN</td>\n",
       "    </tr>\n",
       "  </tbody>\n",
       "</table>\n",
       "</div>"
      ],
      "text/plain": [
       "   cat_id      level_0     level_1 level_2\n",
       "0       1  accessories         NaN     NaN\n",
       "1       2  accessories    handbags     NaN\n",
       "2       3  accessories   jewellery     NaN\n",
       "3       8  accessories     watches     NaN\n",
       "4      11          age  age_0-5_yo     NaN"
      ]
     },
     "execution_count": 6,
     "metadata": {},
     "output_type": "execute_result"
    }
   ],
   "source": [
    "click_categories.head()"
   ]
  },
  {
   "cell_type": "code",
   "execution_count": 7,
   "id": "99cd47d9",
   "metadata": {
    "ExecuteTime": {
     "end_time": "2022-04-02T11:37:01.556026Z",
     "start_time": "2022-04-02T11:37:01.544181Z"
    }
   },
   "outputs": [
    {
     "data": {
      "text/html": [
       "<div>\n",
       "<style scoped>\n",
       "    .dataframe tbody tr th:only-of-type {\n",
       "        vertical-align: middle;\n",
       "    }\n",
       "\n",
       "    .dataframe tbody tr th {\n",
       "        vertical-align: top;\n",
       "    }\n",
       "\n",
       "    .dataframe thead th {\n",
       "        text-align: right;\n",
       "    }\n",
       "</style>\n",
       "<table border=\"1\" class=\"dataframe\">\n",
       "  <thead>\n",
       "    <tr style=\"text-align: right;\">\n",
       "      <th></th>\n",
       "      <th>user_id</th>\n",
       "      <th>cat_id</th>\n",
       "      <th>timestamp</th>\n",
       "      <th>new_uid</th>\n",
       "    </tr>\n",
       "  </thead>\n",
       "  <tbody>\n",
       "    <tr>\n",
       "      <th>0</th>\n",
       "      <td>000143baebad4467a23b98c918ccda19</td>\n",
       "      <td>165</td>\n",
       "      <td>2021-01-30 20:08:12</td>\n",
       "      <td>1873448</td>\n",
       "    </tr>\n",
       "    <tr>\n",
       "      <th>1</th>\n",
       "      <td>000143baebad4467a23b98c918ccda19</td>\n",
       "      <td>165</td>\n",
       "      <td>2021-01-31 20:06:29</td>\n",
       "      <td>1873448</td>\n",
       "    </tr>\n",
       "    <tr>\n",
       "      <th>2</th>\n",
       "      <td>000143baebad4467a23b98c918ccda19</td>\n",
       "      <td>308</td>\n",
       "      <td>2021-01-31 20:12:00</td>\n",
       "      <td>1873448</td>\n",
       "    </tr>\n",
       "    <tr>\n",
       "      <th>3</th>\n",
       "      <td>000143baebad4467a23b98c918ccda19</td>\n",
       "      <td>931</td>\n",
       "      <td>2021-01-31 22:12:00</td>\n",
       "      <td>1873448</td>\n",
       "    </tr>\n",
       "    <tr>\n",
       "      <th>4</th>\n",
       "      <td>000143baebad4467a23b98c918ccda19</td>\n",
       "      <td>931</td>\n",
       "      <td>2021-02-01 16:57:00</td>\n",
       "      <td>1873448</td>\n",
       "    </tr>\n",
       "  </tbody>\n",
       "</table>\n",
       "</div>"
      ],
      "text/plain": [
       "                            user_id  cat_id            timestamp  new_uid\n",
       "0  000143baebad4467a23b98c918ccda19     165  2021-01-30 20:08:12  1873448\n",
       "1  000143baebad4467a23b98c918ccda19     165  2021-01-31 20:06:29  1873448\n",
       "2  000143baebad4467a23b98c918ccda19     308  2021-01-31 20:12:00  1873448\n",
       "3  000143baebad4467a23b98c918ccda19     931  2021-01-31 22:12:00  1873448\n",
       "4  000143baebad4467a23b98c918ccda19     931  2021-02-01 16:57:00  1873448"
      ]
     },
     "execution_count": 7,
     "metadata": {},
     "output_type": "execute_result"
    }
   ],
   "source": [
    "clickstream.head()"
   ]
  },
  {
   "cell_type": "code",
   "execution_count": 8,
   "id": "d5d4bfcc",
   "metadata": {
    "ExecuteTime": {
     "end_time": "2022-04-02T11:37:01.567905Z",
     "start_time": "2022-04-02T11:37:01.557011Z"
    }
   },
   "outputs": [
    {
     "data": {
      "text/html": [
       "<div>\n",
       "<style scoped>\n",
       "    .dataframe tbody tr th:only-of-type {\n",
       "        vertical-align: middle;\n",
       "    }\n",
       "\n",
       "    .dataframe tbody tr th {\n",
       "        vertical-align: top;\n",
       "    }\n",
       "\n",
       "    .dataframe thead th {\n",
       "        text-align: right;\n",
       "    }\n",
       "</style>\n",
       "<table border=\"1\" class=\"dataframe\">\n",
       "  <thead>\n",
       "    <tr style=\"text-align: right;\">\n",
       "      <th></th>\n",
       "      <th>currency_rk</th>\n",
       "      <th>Name</th>\n",
       "    </tr>\n",
       "  </thead>\n",
       "  <tbody>\n",
       "    <tr>\n",
       "      <th>0</th>\n",
       "      <td>48</td>\n",
       "      <td>RUR</td>\n",
       "    </tr>\n",
       "    <tr>\n",
       "      <th>1</th>\n",
       "      <td>50</td>\n",
       "      <td>USD</td>\n",
       "    </tr>\n",
       "    <tr>\n",
       "      <th>2</th>\n",
       "      <td>60</td>\n",
       "      <td>EUR</td>\n",
       "    </tr>\n",
       "  </tbody>\n",
       "</table>\n",
       "</div>"
      ],
      "text/plain": [
       "   currency_rk Name\n",
       "0           48  RUR\n",
       "1           50  USD\n",
       "2           60  EUR"
      ]
     },
     "execution_count": 8,
     "metadata": {},
     "output_type": "execute_result"
    }
   ],
   "source": [
    "currency_rk.head()"
   ]
  },
  {
   "cell_type": "code",
   "execution_count": 9,
   "id": "67770512",
   "metadata": {
    "ExecuteTime": {
     "end_time": "2022-04-02T11:37:01.580195Z",
     "start_time": "2022-04-02T11:37:01.569211Z"
    }
   },
   "outputs": [
    {
     "data": {
      "text/html": [
       "<div>\n",
       "<style scoped>\n",
       "    .dataframe tbody tr th:only-of-type {\n",
       "        vertical-align: middle;\n",
       "    }\n",
       "\n",
       "    .dataframe tbody tr th {\n",
       "        vertical-align: top;\n",
       "    }\n",
       "\n",
       "    .dataframe thead th {\n",
       "        text-align: right;\n",
       "    }\n",
       "</style>\n",
       "<table border=\"1\" class=\"dataframe\">\n",
       "  <thead>\n",
       "    <tr style=\"text-align: right;\">\n",
       "      <th></th>\n",
       "      <th>bank</th>\n",
       "      <th>rtk</th>\n",
       "    </tr>\n",
       "  </thead>\n",
       "  <tbody>\n",
       "    <tr>\n",
       "      <th>0</th>\n",
       "      <td>178b387813ac4a63a2200274a9e3876e</td>\n",
       "      <td>e19c0f141e9442c5bdb0d5751f6fba1c</td>\n",
       "    </tr>\n",
       "    <tr>\n",
       "      <th>1</th>\n",
       "      <td>47cffa46e6b04389ba91a70735d2c3ff</td>\n",
       "      <td>7df3371aabd349e4ac2de8299238627d</td>\n",
       "    </tr>\n",
       "    <tr>\n",
       "      <th>2</th>\n",
       "      <td>f73b767cfd72472aa06df9a69e746aaf</td>\n",
       "      <td>b23d62c7e41145a7ad140a4fcfaafefa</td>\n",
       "    </tr>\n",
       "    <tr>\n",
       "      <th>3</th>\n",
       "      <td>48da649603734185b98dcea93484dbc7</td>\n",
       "      <td>63ad789541c54463ad54d0a707b3ab8b</td>\n",
       "    </tr>\n",
       "    <tr>\n",
       "      <th>4</th>\n",
       "      <td>37304ef19de542ee8fe8a6f050236525</td>\n",
       "      <td>c0e96de5dd594d948a8b9fde9e6980cb</td>\n",
       "    </tr>\n",
       "  </tbody>\n",
       "</table>\n",
       "</div>"
      ],
      "text/plain": [
       "                               bank                               rtk\n",
       "0  178b387813ac4a63a2200274a9e3876e  e19c0f141e9442c5bdb0d5751f6fba1c\n",
       "1  47cffa46e6b04389ba91a70735d2c3ff  7df3371aabd349e4ac2de8299238627d\n",
       "2  f73b767cfd72472aa06df9a69e746aaf  b23d62c7e41145a7ad140a4fcfaafefa\n",
       "3  48da649603734185b98dcea93484dbc7  63ad789541c54463ad54d0a707b3ab8b\n",
       "4  37304ef19de542ee8fe8a6f050236525  c0e96de5dd594d948a8b9fde9e6980cb"
      ]
     },
     "execution_count": 9,
     "metadata": {},
     "output_type": "execute_result"
    }
   ],
   "source": [
    "train_matching.head()"
   ]
  },
  {
   "cell_type": "code",
   "execution_count": 10,
   "id": "26347607",
   "metadata": {
    "ExecuteTime": {
     "end_time": "2022-04-02T11:37:01.592424Z",
     "start_time": "2022-04-02T11:37:01.580952Z"
    }
   },
   "outputs": [
    {
     "data": {
      "text/html": [
       "<div>\n",
       "<style scoped>\n",
       "    .dataframe tbody tr th:only-of-type {\n",
       "        vertical-align: middle;\n",
       "    }\n",
       "\n",
       "    .dataframe tbody tr th {\n",
       "        vertical-align: top;\n",
       "    }\n",
       "\n",
       "    .dataframe thead th {\n",
       "        text-align: right;\n",
       "    }\n",
       "</style>\n",
       "<table border=\"1\" class=\"dataframe\">\n",
       "  <thead>\n",
       "    <tr style=\"text-align: right;\">\n",
       "      <th></th>\n",
       "      <th>user_id</th>\n",
       "      <th>mcc_code</th>\n",
       "      <th>currency_rk</th>\n",
       "      <th>transaction_amt</th>\n",
       "      <th>transaction_dttm</th>\n",
       "    </tr>\n",
       "  </thead>\n",
       "  <tbody>\n",
       "    <tr>\n",
       "      <th>0</th>\n",
       "      <td>000932580e404dafbecd5916d4640938</td>\n",
       "      <td>5411</td>\n",
       "      <td>48</td>\n",
       "      <td>-361.07230</td>\n",
       "      <td>2020-08-03 08:05:23</td>\n",
       "    </tr>\n",
       "    <tr>\n",
       "      <th>1</th>\n",
       "      <td>000932580e404dafbecd5916d4640938</td>\n",
       "      <td>5499</td>\n",
       "      <td>48</td>\n",
       "      <td>-137.31398</td>\n",
       "      <td>2020-08-05 01:27:40</td>\n",
       "    </tr>\n",
       "    <tr>\n",
       "      <th>2</th>\n",
       "      <td>000932580e404dafbecd5916d4640938</td>\n",
       "      <td>5499</td>\n",
       "      <td>48</td>\n",
       "      <td>-138.84981</td>\n",
       "      <td>2020-08-05 03:28:11</td>\n",
       "    </tr>\n",
       "    <tr>\n",
       "      <th>3</th>\n",
       "      <td>000932580e404dafbecd5916d4640938</td>\n",
       "      <td>4829</td>\n",
       "      <td>48</td>\n",
       "      <td>-309.47653</td>\n",
       "      <td>2020-08-06 00:36:29</td>\n",
       "    </tr>\n",
       "    <tr>\n",
       "      <th>4</th>\n",
       "      <td>000932580e404dafbecd5916d4640938</td>\n",
       "      <td>5411</td>\n",
       "      <td>48</td>\n",
       "      <td>-133.47370</td>\n",
       "      <td>2020-08-09 00:30:13</td>\n",
       "    </tr>\n",
       "  </tbody>\n",
       "</table>\n",
       "</div>"
      ],
      "text/plain": [
       "                            user_id  mcc_code  currency_rk  transaction_amt  \\\n",
       "0  000932580e404dafbecd5916d4640938      5411           48       -361.07230   \n",
       "1  000932580e404dafbecd5916d4640938      5499           48       -137.31398   \n",
       "2  000932580e404dafbecd5916d4640938      5499           48       -138.84981   \n",
       "3  000932580e404dafbecd5916d4640938      4829           48       -309.47653   \n",
       "4  000932580e404dafbecd5916d4640938      5411           48       -133.47370   \n",
       "\n",
       "      transaction_dttm  \n",
       "0  2020-08-03 08:05:23  \n",
       "1  2020-08-05 01:27:40  \n",
       "2  2020-08-05 03:28:11  \n",
       "3  2020-08-06 00:36:29  \n",
       "4  2020-08-09 00:30:13  "
      ]
     },
     "execution_count": 10,
     "metadata": {},
     "output_type": "execute_result"
    }
   ],
   "source": [
    "transactions.head()"
   ]
  },
  {
   "cell_type": "code",
   "execution_count": 11,
   "id": "c1e24bcc",
   "metadata": {
    "ExecuteTime": {
     "end_time": "2022-04-02T11:37:01.661803Z",
     "start_time": "2022-04-02T11:37:01.593143Z"
    }
   },
   "outputs": [
    {
     "data": {
      "text/plain": [
       " 48    0.997137\n",
       "-1     0.001383\n",
       " 50    0.001027\n",
       " 60    0.000453\n",
       "Name: currency_rk, dtype: float64"
      ]
     },
     "execution_count": 11,
     "metadata": {},
     "output_type": "execute_result"
    }
   ],
   "source": [
    "transactions.currency_rk.value_counts(normalize=True)"
   ]
  },
  {
   "cell_type": "code",
   "execution_count": 14,
   "id": "caafd483",
   "metadata": {
    "ExecuteTime": {
     "end_time": "2022-04-02T11:37:07.609727Z",
     "start_time": "2022-04-02T11:37:01.767643Z"
    }
   },
   "outputs": [
    {
     "data": {
      "text/plain": [
       "(22533, 19623)"
      ]
     },
     "execution_count": 14,
     "metadata": {},
     "output_type": "execute_result"
    }
   ],
   "source": [
    "transactions.user_id.nunique(), clickstream.user_id.nunique()"
   ]
  },
  {
   "cell_type": "code",
   "execution_count": 15,
   "id": "6c7b36e4",
   "metadata": {
    "ExecuteTime": {
     "end_time": "2022-04-02T11:37:07.626169Z",
     "start_time": "2022-04-02T11:37:07.610917Z"
    }
   },
   "outputs": [
    {
     "data": {
      "text/plain": [
       "(17581, 14672)"
      ]
     },
     "execution_count": 15,
     "metadata": {},
     "output_type": "execute_result"
    }
   ],
   "source": [
    "train_matching.bank.nunique(), train_matching.rtk.nunique()"
   ]
  },
  {
   "cell_type": "code",
   "execution_count": 16,
   "id": "3a42e0d8",
   "metadata": {
    "ExecuteTime": {
     "end_time": "2022-04-02T11:37:07.649194Z",
     "start_time": "2022-04-02T11:37:07.626982Z"
    }
   },
   "outputs": [
    {
     "data": {
      "text/html": [
       "<div>\n",
       "<style scoped>\n",
       "    .dataframe tbody tr th:only-of-type {\n",
       "        vertical-align: middle;\n",
       "    }\n",
       "\n",
       "    .dataframe tbody tr th {\n",
       "        vertical-align: top;\n",
       "    }\n",
       "\n",
       "    .dataframe thead th {\n",
       "        text-align: right;\n",
       "    }\n",
       "</style>\n",
       "<table border=\"1\" class=\"dataframe\">\n",
       "  <thead>\n",
       "    <tr style=\"text-align: right;\">\n",
       "      <th></th>\n",
       "      <th>rtk</th>\n",
       "    </tr>\n",
       "    <tr>\n",
       "      <th>bank</th>\n",
       "      <th></th>\n",
       "    </tr>\n",
       "  </thead>\n",
       "  <tbody>\n",
       "    <tr>\n",
       "      <th>000932580e404dafbecd5916d4640938</th>\n",
       "      <td>1</td>\n",
       "    </tr>\n",
       "    <tr>\n",
       "      <th>a9b41408c6044176b89939b89bfc5ac8</th>\n",
       "      <td>1</td>\n",
       "    </tr>\n",
       "    <tr>\n",
       "      <th>a9bc6f7addf84087acbce1475be8ab70</th>\n",
       "      <td>1</td>\n",
       "    </tr>\n",
       "    <tr>\n",
       "      <th>a9c0d815a8e44c2cb6879a2e7bf34e30</th>\n",
       "      <td>1</td>\n",
       "    </tr>\n",
       "    <tr>\n",
       "      <th>a9c2ee59c54546079ec29457456f6d99</th>\n",
       "      <td>1</td>\n",
       "    </tr>\n",
       "    <tr>\n",
       "      <th>...</th>\n",
       "      <td>...</td>\n",
       "    </tr>\n",
       "    <tr>\n",
       "      <th>54f508e199144dbd98ef3606d107135f</th>\n",
       "      <td>1</td>\n",
       "    </tr>\n",
       "    <tr>\n",
       "      <th>54f4cd47268e482bae929c7082a11ac4</th>\n",
       "      <td>1</td>\n",
       "    </tr>\n",
       "    <tr>\n",
       "      <th>54f2f76f24d448c1aa677aba93b82be3</th>\n",
       "      <td>1</td>\n",
       "    </tr>\n",
       "    <tr>\n",
       "      <th>550ac53e320941e78263ed85fccc5025</th>\n",
       "      <td>1</td>\n",
       "    </tr>\n",
       "    <tr>\n",
       "      <th>fffb051877b949f49bed6538393a06ae</th>\n",
       "      <td>1</td>\n",
       "    </tr>\n",
       "  </tbody>\n",
       "</table>\n",
       "<p>17581 rows × 1 columns</p>\n",
       "</div>"
      ],
      "text/plain": [
       "                                  rtk\n",
       "bank                                 \n",
       "000932580e404dafbecd5916d4640938    1\n",
       "a9b41408c6044176b89939b89bfc5ac8    1\n",
       "a9bc6f7addf84087acbce1475be8ab70    1\n",
       "a9c0d815a8e44c2cb6879a2e7bf34e30    1\n",
       "a9c2ee59c54546079ec29457456f6d99    1\n",
       "...                               ...\n",
       "54f508e199144dbd98ef3606d107135f    1\n",
       "54f4cd47268e482bae929c7082a11ac4    1\n",
       "54f2f76f24d448c1aa677aba93b82be3    1\n",
       "550ac53e320941e78263ed85fccc5025    1\n",
       "fffb051877b949f49bed6538393a06ae    1\n",
       "\n",
       "[17581 rows x 1 columns]"
      ]
     },
     "execution_count": 16,
     "metadata": {},
     "output_type": "execute_result"
    }
   ],
   "source": [
    "train_matching.groupby(by='bank').rtk.count().to_frame().sort_values('rtk')"
   ]
  },
  {
   "cell_type": "code",
   "execution_count": 17,
   "id": "e7e9807c",
   "metadata": {
    "ExecuteTime": {
     "end_time": "2022-04-02T11:37:07.670315Z",
     "start_time": "2022-04-02T11:37:07.650089Z"
    }
   },
   "outputs": [
    {
     "data": {
      "text/html": [
       "<div>\n",
       "<style scoped>\n",
       "    .dataframe tbody tr th:only-of-type {\n",
       "        vertical-align: middle;\n",
       "    }\n",
       "\n",
       "    .dataframe tbody tr th {\n",
       "        vertical-align: top;\n",
       "    }\n",
       "\n",
       "    .dataframe thead th {\n",
       "        text-align: right;\n",
       "    }\n",
       "</style>\n",
       "<table border=\"1\" class=\"dataframe\">\n",
       "  <thead>\n",
       "    <tr style=\"text-align: right;\">\n",
       "      <th></th>\n",
       "      <th>bank</th>\n",
       "    </tr>\n",
       "    <tr>\n",
       "      <th>rtk</th>\n",
       "      <th></th>\n",
       "    </tr>\n",
       "  </thead>\n",
       "  <tbody>\n",
       "    <tr>\n",
       "      <th>80119781ceb341d28da9c84d10a3c36c</th>\n",
       "      <td>1</td>\n",
       "    </tr>\n",
       "    <tr>\n",
       "      <th>aaaa5b54b19841d1a4d060d111f11a0d</th>\n",
       "      <td>1</td>\n",
       "    </tr>\n",
       "    <tr>\n",
       "      <th>aaaafa818ba44fa18c2056747d1cbb16</th>\n",
       "      <td>1</td>\n",
       "    </tr>\n",
       "    <tr>\n",
       "      <th>aab2d48da85c4e279d6f2b49fa76c125</th>\n",
       "      <td>1</td>\n",
       "    </tr>\n",
       "    <tr>\n",
       "      <th>aabd842a17c845619f186fe7241fbf57</th>\n",
       "      <td>1</td>\n",
       "    </tr>\n",
       "    <tr>\n",
       "      <th>...</th>\n",
       "      <td>...</td>\n",
       "    </tr>\n",
       "    <tr>\n",
       "      <th>56be659503a044e28e9e91d4ec9ceda8</th>\n",
       "      <td>1</td>\n",
       "    </tr>\n",
       "    <tr>\n",
       "      <th>56c037a4d8f7482790cc35bfe2e55424</th>\n",
       "      <td>1</td>\n",
       "    </tr>\n",
       "    <tr>\n",
       "      <th>56c0eddd35ad4c66b959819a13a215db</th>\n",
       "      <td>1</td>\n",
       "    </tr>\n",
       "    <tr>\n",
       "      <th>56cbe9baf666472798ddfc9821157d20</th>\n",
       "      <td>1</td>\n",
       "    </tr>\n",
       "    <tr>\n",
       "      <th>0</th>\n",
       "      <td>2910</td>\n",
       "    </tr>\n",
       "  </tbody>\n",
       "</table>\n",
       "<p>14672 rows × 1 columns</p>\n",
       "</div>"
      ],
      "text/plain": [
       "                                  bank\n",
       "rtk                                   \n",
       "80119781ceb341d28da9c84d10a3c36c     1\n",
       "aaaa5b54b19841d1a4d060d111f11a0d     1\n",
       "aaaafa818ba44fa18c2056747d1cbb16     1\n",
       "aab2d48da85c4e279d6f2b49fa76c125     1\n",
       "aabd842a17c845619f186fe7241fbf57     1\n",
       "...                                ...\n",
       "56be659503a044e28e9e91d4ec9ceda8     1\n",
       "56c037a4d8f7482790cc35bfe2e55424     1\n",
       "56c0eddd35ad4c66b959819a13a215db     1\n",
       "56cbe9baf666472798ddfc9821157d20     1\n",
       "0                                 2910\n",
       "\n",
       "[14672 rows x 1 columns]"
      ]
     },
     "execution_count": 17,
     "metadata": {},
     "output_type": "execute_result"
    }
   ],
   "source": [
    "train_matching.groupby(by='rtk').bank.count().to_frame().sort_values('bank')"
   ]
  },
  {
   "cell_type": "code",
   "execution_count": 16,
   "id": "b4948771",
   "metadata": {
    "ExecuteTime": {
     "end_time": "2022-04-02T08:20:43.781000Z",
     "start_time": "2022-04-02T08:20:42.316732Z"
    }
   },
   "outputs": [
    {
     "name": "stdout",
     "output_type": "stream",
     "text": [
      "mcc_code    501\n",
      "dtype: int64 mcc_code    2972\n",
      "dtype: int64\n"
     ]
    },
    {
     "data": {
      "text/plain": [
       "array([[<AxesSubplot:title={'center':'mcc_code'}>]], dtype=object)"
      ]
     },
     "execution_count": 16,
     "metadata": {},
     "output_type": "execute_result"
    },
    {
     "data": {
      "image/png": "[encoded data removed]",
      "text/plain": [
       "<Figure size 432x288 with 1 Axes>"
      ]
     },
     "metadata": {
      "needs_background": "light"
     },
     "output_type": "display_data"
    }
   ],
   "source": [
    "stats = transactions.groupby(by='user_id').mcc_code.count().to_frame()\n",
    "print(stats.min(), stats.max())\n",
    "stats.hist()"
   ]
  },
  {
   "cell_type": "code",
   "execution_count": 12,
   "id": "35591131",
   "metadata": {
    "ExecuteTime": {
     "end_time": "2022-04-02T16:20:55.660003Z",
     "start_time": "2022-04-02T16:20:54.737843Z"
    }
   },
   "outputs": [],
   "source": [
    "grp = transactions.groupby(by='user_id')['mcc_code'].count()"
   ]
  },
  {
   "cell_type": "code",
   "execution_count": 13,
   "id": "266081d1",
   "metadata": {
    "ExecuteTime": {
     "end_time": "2022-04-02T16:21:04.829461Z",
     "start_time": "2022-04-02T16:21:04.817730Z"
    }
   },
   "outputs": [
    {
     "data": {
      "text/plain": [
       "1023.0"
      ]
     },
     "execution_count": 13,
     "metadata": {},
     "output_type": "execute_result"
    }
   ],
   "source": [
    "grp.quantile(0.75)"
   ]
  },
  {
   "cell_type": "code",
   "execution_count": 9,
   "id": "0ac6896b",
   "metadata": {
    "ExecuteTime": {
     "end_time": "2022-04-02T16:19:56.394485Z",
     "start_time": "2022-04-02T16:19:50.415975Z"
    }
   },
   "outputs": [],
   "source": [
    "grp = clickstream.groupby(by='user_id')['cat_id'].count()"
   ]
  },
  {
   "cell_type": "code",
   "execution_count": 11,
   "id": "db6c5bab",
   "metadata": {
    "ExecuteTime": {
     "end_time": "2022-04-02T16:20:39.137846Z",
     "start_time": "2022-04-02T16:20:39.125986Z"
    }
   },
   "outputs": [
    {
     "data": {
      "text/plain": [
       "7210.5"
      ]
     },
     "execution_count": 11,
     "metadata": {},
     "output_type": "execute_result"
    }
   ],
   "source": [
    "grp.quantile(0.75)"
   ]
  },
  {
   "cell_type": "code",
   "execution_count": 154,
   "id": "cee0f47e",
   "metadata": {
    "ExecuteTime": {
     "end_time": "2022-04-02T14:05:53.618038Z",
     "start_time": "2022-04-02T14:05:53.571981Z"
    }
   },
   "outputs": [],
   "source": [
    "from dataset_utils import TargetBuilder"
   ]
  },
  {
   "cell_type": "code",
   "execution_count": 155,
   "id": "39eac3c3",
   "metadata": {
    "ExecuteTime": {
     "end_time": "2022-04-02T14:10:18.645023Z",
     "start_time": "2022-04-02T14:05:53.783439Z"
    }
   },
   "outputs": [
    {
     "name": "stderr",
     "output_type": "stream",
     "text": [
      "100%|█████████████████████████████████████████████████████████████████████████████████████████████████████████████████████████████████████████████████████████████████████████████████████| 132039/132039 [04:17<00:00, 512.18it/s]\n"
     ]
    }
   ],
   "source": [
    "cls = TargetBuilder(train_matching)\n",
    "df = cls.get_markup_df()\n",
    "df.to_csv(path.join(data_dir, 'markup.csv'), index=False)"
   ]
  },
  {
   "cell_type": "code",
   "execution_count": 162,
   "id": "41ac33d8",
   "metadata": {
    "ExecuteTime": {
     "end_time": "2022-04-02T14:18:05.588371Z",
     "start_time": "2022-04-02T14:18:04.950869Z"
    }
   },
   "outputs": [
    {
     "data": {
      "text/html": [
       "<div>\n",
       "<style scoped>\n",
       "    .dataframe tbody tr th:only-of-type {\n",
       "        vertical-align: middle;\n",
       "    }\n",
       "\n",
       "    .dataframe tbody tr th {\n",
       "        vertical-align: top;\n",
       "    }\n",
       "\n",
       "    .dataframe thead th {\n",
       "        text-align: right;\n",
       "    }\n",
       "</style>\n",
       "<table border=\"1\" class=\"dataframe\">\n",
       "  <thead>\n",
       "    <tr style=\"text-align: right;\">\n",
       "      <th></th>\n",
       "      <th>user_id</th>\n",
       "      <th>mcc_code</th>\n",
       "      <th>currency_rk</th>\n",
       "      <th>transaction_amt</th>\n",
       "      <th>transaction_dttm</th>\n",
       "    </tr>\n",
       "  </thead>\n",
       "  <tbody>\n",
       "    <tr>\n",
       "      <th>0</th>\n",
       "      <td>000932580e404dafbecd5916d4640938</td>\n",
       "      <td>5411</td>\n",
       "      <td>48</td>\n",
       "      <td>-361.072300</td>\n",
       "      <td>2020-08-03 08:05:23</td>\n",
       "    </tr>\n",
       "    <tr>\n",
       "      <th>1</th>\n",
       "      <td>000932580e404dafbecd5916d4640938</td>\n",
       "      <td>5499</td>\n",
       "      <td>48</td>\n",
       "      <td>-137.313980</td>\n",
       "      <td>2020-08-05 01:27:40</td>\n",
       "    </tr>\n",
       "    <tr>\n",
       "      <th>2</th>\n",
       "      <td>000932580e404dafbecd5916d4640938</td>\n",
       "      <td>5499</td>\n",
       "      <td>48</td>\n",
       "      <td>-138.849810</td>\n",
       "      <td>2020-08-05 03:28:11</td>\n",
       "    </tr>\n",
       "    <tr>\n",
       "      <th>3</th>\n",
       "      <td>000932580e404dafbecd5916d4640938</td>\n",
       "      <td>4829</td>\n",
       "      <td>48</td>\n",
       "      <td>-309.476530</td>\n",
       "      <td>2020-08-06 00:36:29</td>\n",
       "    </tr>\n",
       "    <tr>\n",
       "      <th>4</th>\n",
       "      <td>000932580e404dafbecd5916d4640938</td>\n",
       "      <td>5411</td>\n",
       "      <td>48</td>\n",
       "      <td>-133.473700</td>\n",
       "      <td>2020-08-09 00:30:13</td>\n",
       "    </tr>\n",
       "    <tr>\n",
       "      <th>...</th>\n",
       "      <td>...</td>\n",
       "      <td>...</td>\n",
       "      <td>...</td>\n",
       "      <td>...</td>\n",
       "      <td>...</td>\n",
       "    </tr>\n",
       "    <tr>\n",
       "      <th>840</th>\n",
       "      <td>000932580e404dafbecd5916d4640938</td>\n",
       "      <td>5462</td>\n",
       "      <td>48</td>\n",
       "      <td>-130.767720</td>\n",
       "      <td>2021-07-30 01:44:14</td>\n",
       "    </tr>\n",
       "    <tr>\n",
       "      <th>841</th>\n",
       "      <td>000932580e404dafbecd5916d4640938</td>\n",
       "      <td>7999</td>\n",
       "      <td>48</td>\n",
       "      <td>-66.747345</td>\n",
       "      <td>2021-07-31 00:17:33</td>\n",
       "    </tr>\n",
       "    <tr>\n",
       "      <th>842</th>\n",
       "      <td>000932580e404dafbecd5916d4640938</td>\n",
       "      <td>4111</td>\n",
       "      <td>48</td>\n",
       "      <td>-23.074652</td>\n",
       "      <td>2021-07-31 01:06:32</td>\n",
       "    </tr>\n",
       "    <tr>\n",
       "      <th>843</th>\n",
       "      <td>000932580e404dafbecd5916d4640938</td>\n",
       "      <td>6011</td>\n",
       "      <td>48</td>\n",
       "      <td>-1059.120800</td>\n",
       "      <td>2021-07-31 01:11:50</td>\n",
       "    </tr>\n",
       "    <tr>\n",
       "      <th>844</th>\n",
       "      <td>000932580e404dafbecd5916d4640938</td>\n",
       "      <td>4111</td>\n",
       "      <td>48</td>\n",
       "      <td>-28.338802</td>\n",
       "      <td>2021-07-31 01:42:54</td>\n",
       "    </tr>\n",
       "  </tbody>\n",
       "</table>\n",
       "<p>845 rows × 5 columns</p>\n",
       "</div>"
      ],
      "text/plain": [
       "                              user_id  mcc_code  currency_rk  transaction_amt  \\\n",
       "0    000932580e404dafbecd5916d4640938      5411           48      -361.072300   \n",
       "1    000932580e404dafbecd5916d4640938      5499           48      -137.313980   \n",
       "2    000932580e404dafbecd5916d4640938      5499           48      -138.849810   \n",
       "3    000932580e404dafbecd5916d4640938      4829           48      -309.476530   \n",
       "4    000932580e404dafbecd5916d4640938      5411           48      -133.473700   \n",
       "..                                ...       ...          ...              ...   \n",
       "840  000932580e404dafbecd5916d4640938      5462           48      -130.767720   \n",
       "841  000932580e404dafbecd5916d4640938      7999           48       -66.747345   \n",
       "842  000932580e404dafbecd5916d4640938      4111           48       -23.074652   \n",
       "843  000932580e404dafbecd5916d4640938      6011           48     -1059.120800   \n",
       "844  000932580e404dafbecd5916d4640938      4111           48       -28.338802   \n",
       "\n",
       "        transaction_dttm  \n",
       "0    2020-08-03 08:05:23  \n",
       "1    2020-08-05 01:27:40  \n",
       "2    2020-08-05 03:28:11  \n",
       "3    2020-08-06 00:36:29  \n",
       "4    2020-08-09 00:30:13  \n",
       "..                   ...  \n",
       "840  2021-07-30 01:44:14  \n",
       "841  2021-07-31 00:17:33  \n",
       "842  2021-07-31 01:06:32  \n",
       "843  2021-07-31 01:11:50  \n",
       "844  2021-07-31 01:42:54  \n",
       "\n",
       "[845 rows x 5 columns]"
      ]
     },
     "execution_count": 162,
     "metadata": {},
     "output_type": "execute_result"
    }
   ],
   "source": [
    "transactions[transactions.user_id=='000932580e404dafbecd5916d4640938'].sort_values('transaction_dttm')"
   ]
  },
  {
   "cell_type": "code",
   "execution_count": 166,
   "id": "426bca0e",
   "metadata": {
    "ExecuteTime": {
     "end_time": "2022-04-02T14:19:43.544670Z",
     "start_time": "2022-04-02T14:19:43.530478Z"
    }
   },
   "outputs": [
    {
     "data": {
      "text/html": [
       "<div>\n",
       "<style scoped>\n",
       "    .dataframe tbody tr th:only-of-type {\n",
       "        vertical-align: middle;\n",
       "    }\n",
       "\n",
       "    .dataframe tbody tr th {\n",
       "        vertical-align: top;\n",
       "    }\n",
       "\n",
       "    .dataframe thead th {\n",
       "        text-align: right;\n",
       "    }\n",
       "</style>\n",
       "<table border=\"1\" class=\"dataframe\">\n",
       "  <thead>\n",
       "    <tr style=\"text-align: right;\">\n",
       "      <th></th>\n",
       "      <th>MCC</th>\n",
       "      <th>Название</th>\n",
       "      <th>Описание</th>\n",
       "    </tr>\n",
       "  </thead>\n",
       "  <tbody>\n",
       "    <tr>\n",
       "      <th>263</th>\n",
       "      <td>6011</td>\n",
       "      <td>Финансовые учреждения – снятие наличных автома...</td>\n",
       "      <td>Используется для определения операций выдачи н...</td>\n",
       "    </tr>\n",
       "  </tbody>\n",
       "</table>\n",
       "</div>"
      ],
      "text/plain": [
       "      MCC                                           Название  \\\n",
       "263  6011  Финансовые учреждения – снятие наличных автома...   \n",
       "\n",
       "                                              Описание  \n",
       "263  Используется для определения операций выдачи н...  "
      ]
     },
     "execution_count": 166,
     "metadata": {},
     "output_type": "execute_result"
    }
   ],
   "source": [
    "mcc_codes[mcc_codes.MCC==6011]"
   ]
  },
  {
   "cell_type": "code",
   "execution_count": 167,
   "id": "043d9d38",
   "metadata": {
    "ExecuteTime": {
     "end_time": "2022-04-02T14:21:09.529391Z",
     "start_time": "2022-04-02T14:21:09.504559Z"
    }
   },
   "outputs": [],
   "source": [
    "from sklearn.preprocessing import LabelEncoder"
   ]
  },
  {
   "cell_type": "code",
   "execution_count": 191,
   "id": "96f3884d",
   "metadata": {
    "ExecuteTime": {
     "end_time": "2022-04-02T14:33:21.330132Z",
     "start_time": "2022-04-02T14:33:21.314489Z"
    }
   },
   "outputs": [
    {
     "data": {
      "text/plain": [
       "['/home/ivan/Рабочий стол/vtb-matching/data/models_objects/le_click_categories']"
      ]
     },
     "execution_count": 191,
     "metadata": {},
     "output_type": "execute_result"
    }
   ],
   "source": [
    "le_mcc = LabelEncoder().fit([-1]+mcc_codes.MCC.sort_values().values.tolist())\n",
    "le_currency_rk = LabelEncoder().fit([-1]+currency_rk.currency_rk.sort_values().values.tolist())\n",
    "le_click_categories = LabelEncoder().fit(click_categories.cat_id.sort_values().values.tolist())\n",
    "\n",
    "joblib.dump(le_mcc, path.join(data_dir, 'models_objects', 'le_mcc'))\n",
    "joblib.dump(le_currency_rk, path.join(data_dir, 'models_objects', 'le_currency_rk'))\n",
    "joblib.dump(le_click_categories, path.join(data_dir, 'models_objects', 'le_click_categories'))"
   ]
  },
  {
   "cell_type": "code",
   "execution_count": 224,
   "id": "14cb585b",
   "metadata": {
    "ExecuteTime": {
     "end_time": "2022-04-02T15:24:12.769749Z",
     "start_time": "2022-04-02T15:23:47.511372Z"
    }
   },
   "outputs": [
    {
     "data": {
      "application/vnd.jupyter.widget-view+json": {
       "model_id": "72bac5b70dee422e9d17ce6c3aeadea4",
       "version_major": 2,
       "version_minor": 0
      },
      "text/plain": [
       "  0%|          | 0/22533 [00:00<?, ?it/s]"
      ]
     },
     "metadata": {},
     "output_type": "display_data"
    }
   ],
   "source": [
    "# + 1 так как 0 будет паддинг\n",
    "transactions.loc[:, ['transaction_dttm']] = pd.to_datetime(transactions.transaction_dttm)\n",
    "transactions = transactions.sort_values('transaction_dttm')\n",
    "transactions_grp = transactions.groupby('user_id') \n",
    "for user in tqdm_notebook(transactions_grp.groups):\n",
    "    user_data = dict()\n",
    "    user_slice = transactions_grp.get_group(user)\n",
    "    user_data['user_id'] = user\n",
    "    user_data['mcc_code'] = le_mcc.transform(user_slice.mcc_code) + 1\n",
    "    user_data['currency_rk'] = le_currency_rk.transform(user_slice.currency_rk) + 1\n",
    "    user_data['transaction_amt'] = user_slice.transaction_amt.values\n",
    "    user_data['transaction_dttm'] = user_slice.transaction_dttm.values\n",
    "    joblib.dump(user_data, path.join(data_dir, 'transaction_data', user))"
   ]
  },
  {
   "cell_type": "code",
   "execution_count": 221,
   "id": "c993f4cc",
   "metadata": {
    "ExecuteTime": {
     "end_time": "2022-04-02T15:18:55.879748Z",
     "start_time": "2022-04-02T15:18:55.865320Z"
    }
   },
   "outputs": [
    {
     "data": {
      "text/html": [
       "<div>\n",
       "<style scoped>\n",
       "    .dataframe tbody tr th:only-of-type {\n",
       "        vertical-align: middle;\n",
       "    }\n",
       "\n",
       "    .dataframe tbody tr th {\n",
       "        vertical-align: top;\n",
       "    }\n",
       "\n",
       "    .dataframe thead th {\n",
       "        text-align: right;\n",
       "    }\n",
       "</style>\n",
       "<table border=\"1\" class=\"dataframe\">\n",
       "  <thead>\n",
       "    <tr style=\"text-align: right;\">\n",
       "      <th></th>\n",
       "      <th>user_id</th>\n",
       "      <th>cat_id</th>\n",
       "      <th>timestamp</th>\n",
       "      <th>new_uid</th>\n",
       "    </tr>\n",
       "  </thead>\n",
       "  <tbody>\n",
       "    <tr>\n",
       "      <th>0</th>\n",
       "      <td>000143baebad4467a23b98c918ccda19</td>\n",
       "      <td>165</td>\n",
       "      <td>2021-01-30 20:08:12</td>\n",
       "      <td>1873448</td>\n",
       "    </tr>\n",
       "  </tbody>\n",
       "</table>\n",
       "</div>"
      ],
      "text/plain": [
       "                            user_id  cat_id            timestamp  new_uid\n",
       "0  000143baebad4467a23b98c918ccda19     165  2021-01-30 20:08:12  1873448"
      ]
     },
     "execution_count": 221,
     "metadata": {},
     "output_type": "execute_result"
    }
   ],
   "source": [
    "clickstream.head(1)"
   ]
  },
  {
   "cell_type": "code",
   "execution_count": 225,
   "id": "93f702ee",
   "metadata": {
    "ExecuteTime": {
     "end_time": "2022-04-02T15:25:06.307900Z",
     "start_time": "2022-04-02T15:24:12.771047Z"
    }
   },
   "outputs": [
    {
     "data": {
      "application/vnd.jupyter.widget-view+json": {
       "model_id": "c764af8061c542edb2869b76358d4ed2",
       "version_major": 2,
       "version_minor": 0
      },
      "text/plain": [
       "  0%|          | 0/19623 [00:00<?, ?it/s]"
      ]
     },
     "metadata": {},
     "output_type": "display_data"
    }
   ],
   "source": [
    "# + 1 так как 0 будет паддинг\n",
    "clickstream.loc[:, ['timestamp']] = pd.to_datetime(clickstream.timestamp)\n",
    "clickstream = clickstream.sort_values('timestamp')\n",
    "clickstream_grp = clickstream.groupby('user_id') \n",
    "for user in tqdm_notebook(clickstream_grp.groups):\n",
    "    user_data = dict()\n",
    "    user_slice = clickstream_grp.get_group(user)\n",
    "    user_data['user_id'] = user\n",
    "    user_data['cat_id'] = le_click_categories.transform(user_slice.cat_id) + 1\n",
    "    user_data['timestamp'] = user_slice.timestamp.values\n",
    "    user_data['new_uid'] = user_slice.new_uid.values\n",
    "    joblib.dump(user_data, path.join(data_dir, 'clickstream_data', user))"
   ]
  },
  {
   "cell_type": "code",
   "execution_count": null,
   "id": "8d199852",
   "metadata": {},
   "outputs": [],
   "source": []
  }
 ],
 "metadata": {
  "kernelspec": {
   "display_name": "Python 3 (ipykernel)",
   "language": "python",
   "name": "python3"
  },
  "language_info": {
   "codemirror_mode": {
    "name": "ipython",
    "version": 3
   },
   "file_extension": ".py",
   "mimetype": "text/x-python",
   "name": "python",
   "nbconvert_exporter": "python",
   "pygments_lexer": "ipython3",
   "version": "3.9.7"
  },
  "toc": {
   "base_numbering": 1,
   "nav_menu": {
    "height": "12px",
    "width": "270px"
   },
   "number_sections": true,
   "sideBar": true,
   "skip_h1_title": false,
   "title_cell": "Table of Contents",
   "title_sidebar": "Contents",
   "toc_cell": false,
   "toc_position": {},
   "toc_section_display": true,
   "toc_window_display": true
  }
 },
 "nbformat": 4,
 "nbformat_minor": 5
}
