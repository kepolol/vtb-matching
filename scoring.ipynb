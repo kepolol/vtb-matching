{
 "cells": [
  {
   "cell_type": "code",
   "execution_count": 1,
   "id": "ea2a1b38",
   "metadata": {
    "ExecuteTime": {
     "end_time": "2022-04-04T04:19:44.054299Z",
     "start_time": "2022-04-04T04:19:44.044208Z"
    }
   },
   "outputs": [],
   "source": [
    "%load_ext autoreload\n",
    "%autoreload 2"
   ]
  },
  {
   "cell_type": "code",
   "execution_count": 62,
   "id": "302e2613",
   "metadata": {
    "ExecuteTime": {
     "end_time": "2022-04-04T05:20:02.001315Z",
     "start_time": "2022-04-04T05:20:01.988154Z"
    }
   },
   "outputs": [],
   "source": [
    "import warnings\n",
    "import sys\n",
    "\n",
    "warnings.filterwarnings(\"ignore\", category=FutureWarning)\n",
    "warnings.filterwarnings(\"ignore\", category=DeprecationWarning)\n",
    "\n",
    "import pandas as pd\n",
    "from os import path\n",
    "from pathlib import Path\n",
    "from tqdm import tqdm\n",
    "from tqdm._tqdm_notebook import tqdm_notebook\n",
    "import torch\n",
    "from torch.optim import lr_scheduler\n",
    "import torch.optim as optim\n",
    "import torch.nn as nn\n",
    "import torch.nn.functional as f\n",
    "import joblib\n",
    "from numpy import dot\n",
    "from numpy.linalg import norm\n",
    "import numpy as np\n",
    "from torch.utils.data import DataLoader\n",
    "from sklearn.metrics.pairwise import cosine_similarity\n",
    "from dataset_utils import SiamLikeDataset, train_val_test_split\n",
    "from models import CombinedModel\n",
    "\n",
    "tqdm_notebook.pandas()"
   ]
  },
  {
   "cell_type": "code",
   "execution_count": 8,
   "id": "c2ce8d0a",
   "metadata": {
    "ExecuteTime": {
     "end_time": "2022-04-04T04:25:22.119043Z",
     "start_time": "2022-04-04T04:25:22.107143Z"
    }
   },
   "outputs": [],
   "source": [
    "device = torch.device('cuda' if torch.cuda.is_available() else 'cpu')\n",
    "current_dir = path.join(*path.split(Path().absolute()))\n",
    "data_dir = path.join(current_dir, 'data')"
   ]
  },
  {
   "cell_type": "code",
   "execution_count": 18,
   "id": "cadd8ec0",
   "metadata": {
    "ExecuteTime": {
     "end_time": "2022-04-04T04:32:22.671054Z",
     "start_time": "2022-04-04T04:32:22.554968Z"
    }
   },
   "outputs": [
    {
     "data": {
      "text/plain": [
       "((73354, 3), (36678, 3), (36678, 3))"
      ]
     },
     "execution_count": 18,
     "metadata": {},
     "output_type": "execute_result"
    }
   ],
   "source": [
    "markup = pd.read_csv(path.join(data_dir, 'markup.csv'))\n",
    "train, valid, test = train_val_test_split(\n",
    "    markup,test_size=0.25,valid_size=0.25,random_state=42,stratify='target'\n",
    ")\n",
    "train.shape, valid.shape, test.shape"
   ]
  },
  {
   "cell_type": "code",
   "execution_count": 19,
   "id": "3203212d",
   "metadata": {
    "ExecuteTime": {
     "end_time": "2022-04-04T04:32:42.324129Z",
     "start_time": "2022-04-04T04:32:42.297359Z"
    }
   },
   "outputs": [],
   "source": [
    "dtst_train = SiamLikeDataset(markup=train,\n",
    "                       transactions_path=path.join(data_dir, 'transaction_data'), \n",
    "                       clickstream_path=path.join(data_dir, 'clickstream_data'))\n",
    "dtst_valid = SiamLikeDataset(markup=valid,\n",
    "                       transactions_path=path.join(data_dir, 'transaction_data'), \n",
    "                       clickstream_path=path.join(data_dir, 'clickstream_data'))\n",
    "dtst_test = SiamLikeDataset(markup=test,\n",
    "                       transactions_path=path.join(data_dir, 'transaction_data'), \n",
    "                       clickstream_path=path.join(data_dir, 'clickstream_data'))"
   ]
  },
  {
   "cell_type": "code",
   "execution_count": 23,
   "id": "224fe151",
   "metadata": {
    "ExecuteTime": {
     "end_time": "2022-04-04T04:36:48.330127Z",
     "start_time": "2022-04-04T04:36:48.317503Z"
    }
   },
   "outputs": [],
   "source": [
    "batch_size = 128\n",
    "kwargs = {'num_workers': 0, 'batch_size': batch_size, 'shuffle': False, 'drop_last': False}\n",
    "train_dataloader = DataLoader(dtst_train, **kwargs)\n",
    "valid_dataloader = DataLoader(dtst_valid, **kwargs)\n",
    "test_dataloader = DataLoader(dtst_test, **kwargs)"
   ]
  },
  {
   "cell_type": "code",
   "execution_count": 11,
   "id": "66a7a7ef",
   "metadata": {
    "ExecuteTime": {
     "end_time": "2022-04-04T04:26:32.905135Z",
     "start_time": "2022-04-04T04:26:32.891872Z"
    }
   },
   "outputs": [],
   "source": [
    "le_mcc = joblib.load(path.join(data_dir, 'models_objects', 'le_mcc'))\n",
    "le_currency_rk = joblib.load(path.join(data_dir, 'models_objects', 'le_currency_rk'))\n",
    "le_click_categories = joblib.load(path.join(data_dir, 'models_objects', 'le_click_categories'))"
   ]
  },
  {
   "cell_type": "code",
   "execution_count": 22,
   "id": "2336fedb",
   "metadata": {
    "ExecuteTime": {
     "end_time": "2022-04-04T04:36:17.274168Z",
     "start_time": "2022-04-04T04:36:17.249447Z"
    },
    "scrolled": true
   },
   "outputs": [
    {
     "data": {
      "text/plain": [
       "CombinedModel(\n",
       "  (m_bank): BankModel(\n",
       "    (emb_mcc): EmbeddingModel(\n",
       "      (emb): Sequential(\n",
       "        (0): Embedding(387, 3, padding_idx=0)\n",
       "        (1): Dropout(p=0.1, inplace=False)\n",
       "      )\n",
       "    )\n",
       "    (emb_currency_rk): EmbeddingModel(\n",
       "      (emb): Sequential(\n",
       "        (0): Embedding(5, 2, padding_idx=0)\n",
       "        (1): Dropout(p=0.1, inplace=False)\n",
       "      )\n",
       "    )\n",
       "    (lstm_mcc): LSTMModel(\n",
       "      (lstm_1d): Sequential(\n",
       "        (0): BatchNorm1d(3, eps=1e-05, momentum=0.1, affine=True, track_running_stats=True)\n",
       "        (1): Dropout(p=0.1, inplace=False)\n",
       "        (2): LSTM(3, 64, batch_first=True, dropout=0.1, bidirectional=True)\n",
       "      )\n",
       "      (lstm_2d): Sequential(\n",
       "        (0): LSTM(3, 64, batch_first=True, dropout=0.1, bidirectional=True)\n",
       "      )\n",
       "    )\n",
       "    (lstm_currency_rk): LSTMModel(\n",
       "      (lstm_1d): Sequential(\n",
       "        (0): BatchNorm1d(2, eps=1e-05, momentum=0.1, affine=True, track_running_stats=True)\n",
       "        (1): Dropout(p=0.1, inplace=False)\n",
       "        (2): LSTM(2, 64, batch_first=True, dropout=0.1, bidirectional=True)\n",
       "      )\n",
       "      (lstm_2d): Sequential(\n",
       "        (0): LSTM(2, 64, batch_first=True, dropout=0.1, bidirectional=True)\n",
       "      )\n",
       "    )\n",
       "    (lstm_transaction_amt): LSTMModel(\n",
       "      (lstm_1d): Sequential(\n",
       "        (0): BatchNorm1d(1, eps=1e-05, momentum=0.1, affine=True, track_running_stats=True)\n",
       "        (1): Dropout(p=0.1, inplace=False)\n",
       "        (2): LSTM(1, 64, batch_first=True, dropout=0.1, bidirectional=True)\n",
       "      )\n",
       "      (lstm_2d): Sequential(\n",
       "        (0): LSTM(1, 64, batch_first=True, dropout=0.1, bidirectional=True)\n",
       "      )\n",
       "    )\n",
       "    (fc): Sequential(\n",
       "      (0): Linear(in_features=384, out_features=256, bias=True)\n",
       "      (1): PReLU(num_parameters=1)\n",
       "      (2): Linear(in_features=256, out_features=256, bias=True)\n",
       "      (3): PReLU(num_parameters=1)\n",
       "      (4): Linear(in_features=256, out_features=128, bias=True)\n",
       "    )\n",
       "  )\n",
       "  (m_rtk): RTKModel(\n",
       "    (emb_cat_id): EmbeddingModel(\n",
       "      (emb): Sequential(\n",
       "        (0): Embedding(403, 5, padding_idx=0)\n",
       "        (1): Dropout(p=0.1, inplace=False)\n",
       "      )\n",
       "    )\n",
       "    (lstm_cat_id): LSTMModel(\n",
       "      (lstm_1d): Sequential(\n",
       "        (0): BatchNorm1d(5, eps=1e-05, momentum=0.1, affine=True, track_running_stats=True)\n",
       "        (1): Dropout(p=0.1, inplace=False)\n",
       "        (2): LSTM(5, 64, batch_first=True, dropout=0.1, bidirectional=True)\n",
       "      )\n",
       "      (lstm_2d): Sequential(\n",
       "        (0): LSTM(5, 64, batch_first=True, dropout=0.1, bidirectional=True)\n",
       "      )\n",
       "    )\n",
       "    (fc): Sequential(\n",
       "      (0): Linear(in_features=128, out_features=256, bias=True)\n",
       "      (1): PReLU(num_parameters=1)\n",
       "      (2): Linear(in_features=256, out_features=256, bias=True)\n",
       "      (3): PReLU(num_parameters=1)\n",
       "      (4): Linear(in_features=256, out_features=128, bias=True)\n",
       "    )\n",
       "  )\n",
       ")"
      ]
     },
     "execution_count": 22,
     "metadata": {},
     "output_type": "execute_result"
    }
   ],
   "source": [
    "model = CombinedModel(mcc_classes=len(le_mcc.classes_),\n",
    "                          mcc_emb_size=3,\n",
    "                          currency_rk_classes=len(le_currency_rk.classes_),\n",
    "                          currency_rk_emb_size=2, cat_id_classes=len(le_click_categories.classes_),\n",
    "                          cat_id_emb_size=5, device=device).to(device)\n",
    "model.load_state_dict(torch.load(path.join(\n",
    "                   data_dir,\n",
    "                   'nn_chpt', \n",
    "                   'model_2022-04-03 20_29_11_0.1004_0.10036'), map_location=device))\n",
    "model.eval()"
   ]
  },
  {
   "cell_type": "code",
   "execution_count": 63,
   "id": "5d87c58c",
   "metadata": {
    "ExecuteTime": {
     "end_time": "2022-04-04T06:30:35.283513Z",
     "start_time": "2022-04-04T05:25:42.812792Z"
    }
   },
   "outputs": [
    {
     "name": "stderr",
     "output_type": "stream",
     "text": [
      "train: 100%|██████████████████████████████████████████████████████████████████████████████████████████████████████████████████████████████████████████████████████████████████████████████████| 574/574 [26:52<00:00,  2.81s/batch]\n",
      "valid: 100%|██████████████████████████████████████████████████████████████████████████████████████████████████████████████████████████████████████████████████████████████████████████████████| 287/287 [18:12<00:00,  3.81s/batch]\n",
      "test: 100%|███████████████████████████████████████████████████████████████████████████████████████████████████████████████████████████████████████████████████████████████████████████████████████████| 287/287 [19:47<00:00,  4.14s/batch]\n"
     ]
    }
   ],
   "source": [
    "load_dict = {'train': train_dataloader, 'valid': valid_dataloader, 'test': test_dataloader}\n",
    "results_dict = dict.fromkeys(load_dict.keys())\n",
    "\n",
    "for sample, sample_loader in load_dict.items():\n",
    "    with torch.no_grad():\n",
    "        with tqdm(sample_loader, unit=\"batch\") as tqdm_sample_loader:\n",
    "            results_dict[sample] = dict()\n",
    "            results_dict[sample]['bank_emb'] = []\n",
    "            results_dict[sample]['rtk_emb'] = []\n",
    "            results_dict[sample]['cosine_sim'] = []\n",
    "            results_dict[sample]['bank_id'] = []\n",
    "            results_dict[sample]['rtk_id'] = []\n",
    "            results_dict[sample]['target'] = []\n",
    "            for batch in tqdm_sample_loader:\n",
    "                results_dict[sample]['bank_emb'].extend(batch['bank_id'])\n",
    "                results_dict[sample]['rtk_id'].extend(batch['rtk_id'])\n",
    "                results_dict[sample]['target'].extend(batch['target'].detach().numpy().tolist())\n",
    "                tqdm_sample_loader.set_description(f\"{sample}\")\n",
    "                bes = model.m_bank(batch).detach().numpy()\n",
    "                res = model.m_rtk(batch).detach().numpy()\n",
    "                for b_emb, r_emb in zip(bes, res):\n",
    "                    results_dict[sample]['cosine_sim'].append(dot(b_emb, r_emb)/(norm(b_emb)*norm(r_emb)))\n",
    "                    results_dict[sample]['bank_emb'].append(b_emb)\n",
    "                    results_dict[sample]['rtk_emb'].append(r_emb)\n",
    "            results_dict[sample]['bank_emb'] = np.array(results_dict[sample]['bank_emb'])\n",
    "            results_dict[sample]['rtk_emb'] = np.array(results_dict[sample]['rtk_emb'])"
   ]
  },
  {
   "cell_type": "code",
   "execution_count": null,
   "id": "2066b432",
   "metadata": {},
   "outputs": [],
   "source": []
  }
 ],
 "metadata": {
  "kernelspec": {
   "display_name": "Python 3 (ipykernel)",
   "language": "python",
   "name": "python3"
  },
  "language_info": {
   "codemirror_mode": {
    "name": "ipython",
    "version": 3
   },
   "file_extension": ".py",
   "mimetype": "text/x-python",
   "name": "python",
   "nbconvert_exporter": "python",
   "pygments_lexer": "ipython3",
   "version": "3.9.7"
  },
  "toc": {
   "base_numbering": 1,
   "nav_menu": {},
   "number_sections": true,
   "sideBar": true,
   "skip_h1_title": false,
   "title_cell": "Table of Contents",
   "title_sidebar": "Contents",
   "toc_cell": false,
   "toc_position": {},
   "toc_section_display": true,
   "toc_window_display": false
  }
 },
 "nbformat": 4,
 "nbformat_minor": 5
}
